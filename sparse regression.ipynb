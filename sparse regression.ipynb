{
 "cells": [
  {
   "cell_type": "markdown",
   "id": "d7ecc0da",
   "metadata": {},
   "source": [
    "# Sparse Nonlinear Least Squares\n",
    "\n",
    "We're interested in nonlinear least squares problems of the form\n",
    "\n",
    "$$min_x \\|f(x)\\|_2^2,$$\n",
    "\n",
    "but prefer $x$ to be sparse. I proposed to tackle this by a reparametrization trick. I'm interested to know if prox methods could do this better, especially if they're adapted to second order methods. To this end, I'm going to try SKGLM on a linear version of the above, with $f(x) = Ax$."
   ]
  },
  {
   "cell_type": "code",
   "execution_count": 243,
   "id": "140c0532",
   "metadata": {},
   "outputs": [],
   "source": [
    "from typing import Dict, NamedTuple\n",
    "\n",
    "import dataclasses as dc\n",
    "import time\n",
    "\n",
    "import numpy as np\n",
    "import matplotlib.pylab as plt\n",
    "\n",
    "\n",
    "class Run(NamedTuple):\n",
    "    w: np.ndarray\n",
    "    time_sec: float\n",
    "\n",
    "\n",
    "@dc.dataclass\n",
    "class LASSOProblem:\n",
    "    A: np.ndarray = None\n",
    "    b: np.ndarray = None\n",
    "    lam: float = 0.\n",
    "    \n",
    "    # Parameter vectors recovered by various algorithms.\n",
    "    runs: Dict[str, Run] = dc.field(default_factory=dict)\n",
    "\n",
    "    def cost(self, w: np.ndarray):\n",
    "        return 0.5 * np.sum((self.A.dot(w) - self.b)**2) + self.lam * np.sum(np.abs(w)**(2/3))\n",
    "        \n",
    "    @classmethod\n",
    "    def random_problem(cls, rows=500, cols=1000) -> 'LASSOProblem':\n",
    "        return cls(\n",
    "            A=np.random.randn(rows, cols),\n",
    "            b=np.random.randn(rows),\n",
    "            lam=.5\n",
    "        )\n",
    "\n",
    "    @classmethod\n",
    "    def random_ill_conditioned_problem(cls, rows=500, cols=1000) -> 'LASSOProblem':\n",
    "        A = np.random.randn(rows, cols)\n",
    "\n",
    "        # Replace the spectrum of A to make it poorly conditioned.\n",
    "        # TODO: Could avoid computing SVD by instead generating random orthonormal matrices U and V.\n",
    "        U, s, VT = np.linalg.svd(A, full_matrices=False)\n",
    "        A_bad = np.dot(U * np.exp(-np.linspace(0, 8, len(s))), VT)\n",
    "        \n",
    "        # Hide b inside the the low eigenvectors of A. This forces gradient descent to bounce around a lot\n",
    "        # before it can find b.\n",
    "        b_bad = U[:, -1] * 1e3\n",
    "        #b_bad = np.random.randn(A.shape[0])\n",
    "        \n",
    "        return cls(\n",
    "            A=A_bad,\n",
    "            b=b_bad,\n",
    "            lam=0.01\n",
    "        )\n",
    "\n",
    "lasso_problem = LASSOProblem.random_problem()"
   ]
  },
  {
   "cell_type": "markdown",
   "id": "17837cf1",
   "metadata": {},
   "source": [
    "# Sparsity by Reparametrizing as Nonlinear Least Squares\n",
    "\n",
    "Regularizing a regression problem with a p-norm with $0<p\\leq 1$ causes some of the the entries of the solution to go to zero. The smaller $p$ is, the more aggresive the sparisification.\n",
    "\n",
    "Let's solve\n",
    "\n",
    "$$\\min_x \\|A x - b\\|_2^2 + \\lambda \\|x\\|_{2/3}^{2/3}.$$\n",
    "\n",
    "We'll solve this problem by introducing the change of variables\n",
    "\n",
    "$$x = y^3,$$\n",
    "\n",
    "and rewrite the optimization problem as\n",
    "\n",
    "$$\\min_y \\|A y^3 - b\\|_2^2 + \\lambda \\|y\\|_2^2.$$\n",
    "\n",
    "We'll then solve this with Levenberg-Marquardt. We expect this method to better than gradient descent when $A$ is ill-conditioned, or when we need precise answers."
   ]
  },
  {
   "cell_type": "code",
   "execution_count": 246,
   "id": "c5e9887c",
   "metadata": {},
   "outputs": [
    {
     "name": "stdout",
     "output_type": "stream",
     "text": [
      "The maximum number of function evaluations is exceeded.\n",
      "Function evaluations 15, initial cost 2.0582e+01, final cost 1.3119e+01, first-order optimality 2.88e-02.\n"
     ]
    }
   ],
   "source": [
    "import scipy.optimize\n",
    "\n",
    "def LASSO_reparametrized_nonlinear_least_squares(lasso: LASSOProblem, max_nfev=15) -> np.ndarray:\n",
    "    def func(y):\n",
    "        return np.hstack((\n",
    "            (lasso.A.dot(y**3) - lasso.b) / np.sqrt(2),\n",
    "            np.sqrt(lasso.lam) * y\n",
    "        ))\n",
    "\n",
    "    def dfunc(y):\n",
    "        return np.vstack((\n",
    "          3/np.sqrt(2) * lasso.A * y[None, :]**2,\n",
    "          np.sqrt(lasso.lam) * np.eye(len(y))\n",
    "        ))\n",
    "\n",
    "    time_start = time.time()\n",
    "    \n",
    "    x0 = np.linalg.lstsq(lasso.A, lasso.b, rcond=None)[0]\n",
    "    r = scipy.optimize.least_squares(\n",
    "        func, np.abs(x0)**(1/3) * np.sign(x0), jac=dfunc,\n",
    "        method='lm',\n",
    "        max_nfev=max_nfev,\n",
    "        ftol=1e-15,\n",
    "        gtol=1e-15,\n",
    "        verbose=1,\n",
    "    )\n",
    "\n",
    "    lasso.runs['Reparametrization'] = Run(r.x**3, time.time() - time_start)\n",
    "\n",
    "LASSO_reparametrized_nonlinear_least_squares(lasso_problem)"
   ]
  },
  {
   "cell_type": "markdown",
   "id": "2cc8eca2",
   "metadata": {},
   "source": [
    "# SKGML\n",
    "\n",
    "SKGLM is a package for sparse linear regression."
   ]
  },
  {
   "cell_type": "code",
   "execution_count": 244,
   "id": "17fb721e",
   "metadata": {},
   "outputs": [],
   "source": [
    "import skglm\n",
    "\n",
    "def LASSO_skglm(lasso: LASSOProblem, max_iter=100):\n",
    "    time_start = time.time()\n",
    "    model = skglm.GeneralizedLinearEstimator(\n",
    "        datafit=skglm.datafits.Quadratic(),\n",
    "        penalty=skglm.penalties.L2_3(lasso.lam / len(lasso.b)),\n",
    "        solver=skglm.solvers.AndersonCD(\n",
    "            tol=1e-12,\n",
    "            max_iter=max_iter,\n",
    "            verbose=False,\n",
    "            fit_intercept=False,\n",
    "            ws_strategy=\"fixpoint\"\n",
    "        ),\n",
    "    )\n",
    "\n",
    "    model.fit(lasso.A, lasso.b)\n",
    "\n",
    "    lasso.runs['SKGLM'] = Run(model.coef_, time.time() - time_start)\n",
    "\n",
    "LASSO_skglm(lasso_problem)"
   ]
  },
  {
   "cell_type": "code",
   "execution_count": 247,
   "id": "9c3648f5",
   "metadata": {},
   "outputs": [
    {
     "name": "stdout",
     "output_type": "stream",
     "text": [
      "cond(A)= 5.6778304338433525\n"
     ]
    },
    {
     "data": {
      "image/png": "[encoded data removed]",
      "text/plain": [
       "<Figure size 640x480 with 1 Axes>"
      ]
     },
     "metadata": {},
     "output_type": "display_data"
    }
   ],
   "source": [
    "def show_results(lasso_problem: LASSOProblem):\n",
    "    for algorithm, run in lasso_problem.runs.items():\n",
    "        plt.hist(\n",
    "            run.w,\n",
    "            alpha=0.4,\n",
    "            label='%s cost = %g, time = %.1g sec' % (\n",
    "                algorithm, lasso_problem.cost(run.w), run.time_sec\n",
    "            )\n",
    "        )\n",
    "\n",
    "    plt.legend(fontsize=10)\n",
    "    print(\"cond(A)=\", np.linalg.cond(lasso_problem.A))\n",
    "    \n",
    "show_results(lasso_problem)"
   ]
  },
  {
   "cell_type": "markdown",
   "id": "2f71b9a2",
   "metadata": {},
   "source": [
    "SKGLM is faster than reparametrization trick in this case. However, I cannot get it to achieve as low of a cost as the reparametrization trick. I've tried reducing  its tolerance parameter, but it gets stuck when i set tol=1e-18, for example. Nevertheless, the histogram above reveals its answer is similar to the reparametrization trick."
   ]
  },
  {
   "cell_type": "markdown",
   "id": "51e2e0ae",
   "metadata": {},
   "source": [
    "# Ill-conditioned problems\n",
    "\n",
    "Let's see what happens when the LASSO problem is ill-conditioned. This is where second order methods shine."
   ]
  },
  {
   "cell_type": "code",
   "execution_count": 239,
   "id": "41746ea0",
   "metadata": {},
   "outputs": [],
   "source": [
    "ill_conditioned_lasso_problem = LASSOProblem.random_ill_conditioned_problem()"
   ]
  },
  {
   "cell_type": "code",
   "execution_count": 240,
   "id": "83813b5d",
   "metadata": {},
   "outputs": [
    {
     "name": "stdout",
     "output_type": "stream",
     "text": [
      "The maximum number of function evaluations is exceeded.\n",
      "Function evaluations 10, initial cost 8.2512e+03, final cost 8.1551e+03, first-order optimality 8.26e+02.\n"
     ]
    }
   ],
   "source": [
    "LASSO_reparametrized_nonlinear_least_squares(ill_conditioned_lasso_problem, max_nfev=10)"
   ]
  },
  {
   "cell_type": "code",
   "execution_count": 241,
   "id": "5bb5e0c1",
   "metadata": {},
   "outputs": [],
   "source": [
    "LASSO_skglm(ill_conditioned_lasso_problem, max_iter=10)"
   ]
  },
  {
   "cell_type": "code",
   "execution_count": 242,
   "id": "75fa47ad",
   "metadata": {
    "scrolled": false
   },
   "outputs": [
    {
     "name": "stdout",
     "output_type": "stream",
     "text": [
      "cond(A)= 2980.9579870417915\n"
     ]
    },
    {
     "data": {
      "image/png": "[encoded data removed]",
      "text/plain": [
       "<Figure size 640x480 with 1 Axes>"
      ]
     },
     "metadata": {},
     "output_type": "display_data"
    }
   ],
   "source": [
    "show_results(ill_conditioned_lasso_problem)"
   ]
  },
  {
   "cell_type": "markdown",
   "id": "e85897d5",
   "metadata": {},
   "source": [
    "On a badly conditioned problem, SKGLM reach similar costs, but SKGLM is 10x slower than the reparametrization trick. This is expected, because the reparametrization trick relies on a quasi-Newton solver, which preconditions the problem with an estimate of the Hessian. Notice also that a small change of ~2% in the cost amounts to a very large change in the solution vector: the histograms of parameter values differ dramatically."
   ]
  }
 ],
 "metadata": {
  "kernelspec": {
   "display_name": "Python 3 (ipykernel)",
   "language": "python",
   "name": "python3"
  },
  "language_info": {
   "codemirror_mode": {
    "name": "ipython",
    "version": 3
   },
   "file_extension": ".py",
   "mimetype": "text/x-python",
   "name": "python",
   "nbconvert_exporter": "python",
   "pygments_lexer": "ipython3",
   "version": "3.10.7"
  }
 },
 "nbformat": 4,
 "nbformat_minor": 5
}
