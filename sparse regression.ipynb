{
 "cells": [
  {
   "cell_type": "markdown",
   "metadata": {},
   "source": [
    "# Sparse Nonlinear Least Squares\n",
    "\n",
    "We're interested in nonlinear least squares problems of the form\n",
    "\n",
    "$$min_x \\|f(x)\\|_2^2,$$\n",
    "\n",
    "but prefer $x$ to be sparse. I proposed to tackle this by a reparametrization trick. I'm interested to know if prox methods could do this better, especially if they're adapted to second order methods. To this end, I'm going to try SKGLM on a linear version of the above, with $f(x) = Ax$."
   ]
  },
  {
   "cell_type": "code",
   "execution_count": 35,
   "metadata": {},
   "outputs": [],
   "source": [
    "from typing import Dict, NamedTuple\n",
    "\n",
    "import dataclasses as dc\n",
    "import time\n",
    "\n",
    "import numpy as np\n",
    "import matplotlib.pylab as plt\n",
    "from sklearn.utils import check_random_state\n",
    "rng = check_random_state(0)\n",
    "\n",
    "class Run(NamedTuple):\n",
    "    w: np.ndarray\n",
    "    time_sec: float\n",
    "\n",
    "\n",
    "@dc.dataclass\n",
    "class LASSOProblem:\n",
    "    A: np.ndarray = None\n",
    "    b: np.ndarray = None\n",
    "    lam: float = 0.\n",
    "    \n",
    "    # Parameter vectors recovered by various algorithms.\n",
    "    runs: Dict[str, Run] = dc.field(default_factory=dict)\n",
    "\n",
    "    def cost(self, w: np.ndarray):\n",
    "        return np.sum((self.A.dot(w) - self.b)**2) + self.lam * np.sum(np.abs(w)**(2/3))\n",
    "        \n",
    "    @classmethod\n",
    "    def random_problem(cls, rows=500, cols=1000) -> 'LASSOProblem':\n",
    "        return cls(\n",
    "            A=rng.randn(rows, cols),\n",
    "            b=rng.randn(rows),\n",
    "            lam=.5\n",
    "        )\n",
    "\n",
    "    @classmethod\n",
    "    def random_ill_conditioned_problem(cls, rows=500, cols=1000) -> 'LASSOProblem':\n",
    "        A = rng.randn(rows, cols)\n",
    "\n",
    "        # Replace the spectrum of A to make it poorly conditioned.\n",
    "        U, s, VT = np.linalg.svd(A, full_matrices=False)\n",
    "        A_bad = np.dot(U * np.exp(-np.linspace(0, 10, len(s))), VT)\n",
    "        \n",
    "        return cls(\n",
    "            A=A_bad,\n",
    "            b=np.random.rand(rows),\n",
    "            lam=.01\n",
    "        )\n",
    "\n",
    "lasso_problem = LASSOProblem.random_problem()"
   ]
  },
  {
   "cell_type": "markdown",
   "metadata": {},
   "source": [
    "# Sparsity by Reparametrizing as Nonlinear Least Squares\n",
    "\n",
    "Regularizing a regression problem with a p-norm with $0<p\\leq 1$ causes some of the the entries of the solution to go to zero. The smaller $p$ is, the more aggresive the sparisification.\n",
    "\n",
    "Let's solve\n",
    "\n",
    "$$\\min_x \\|A x - b\\|_2^2 + \\lambda \\|x\\|_{2/3}^{2/3}.$$\n",
    "\n",
    "We'll solve this problem by introducing the change of variables\n",
    "\n",
    "$$x = y^3,$$\n",
    "\n",
    "and rewrite the optimization problem as\n",
    "\n",
    "$$\\min_y \\|A y^3 - b\\|_2^2 + \\lambda \\|y\\|_2^2.$$\n",
    "\n",
    "We'll then solve this with Levenberg-Marquardt. We expect this method to better than gradient descent when $A$ is ill-conditioned, or when we need precise answers."
   ]
  },
  {
   "cell_type": "code",
   "execution_count": 36,
   "metadata": {},
   "outputs": [
    {
     "name": "stdout",
     "output_type": "stream",
     "text": [
      "The maximum number of function evaluations is exceeded.\n",
      "Function evaluations 15, initial cost 2.0861e+01, final cost 1.3954e+01, first-order optimality 3.47e-02.\n"
     ]
    }
   ],
   "source": [
    "import scipy.optimize\n",
    "\n",
    "def LASSO_reparametrized_nonlinear_least_squares(lasso: LASSOProblem, max_nfev=15) -> np.ndarray:\n",
    "    def func(y):\n",
    "        return np.hstack((\n",
    "            lasso.A.dot(y**3) - lasso.b,\n",
    "            np.sqrt(lasso.lam) * y\n",
    "        ))\n",
    "\n",
    "    def dfunc(y):\n",
    "        return np.vstack((\n",
    "          3 * lasso.A * y[None, :]**2,\n",
    "          np.sqrt(lasso.lam) * np.eye(len(y))\n",
    "        ))\n",
    "\n",
    "    time_start = time.time()\n",
    "    \n",
    "    x0 = np.linalg.lstsq(lasso.A, lasso.b, rcond=None)[0]\n",
    "    r = scipy.optimize.least_squares(\n",
    "        func, np.abs(x0)**(1/3) * np.sign(x0), jac=dfunc,\n",
    "        method='lm',\n",
    "        max_nfev=max_nfev,\n",
    "        verbose=1,\n",
    "    )\n",
    "\n",
    "    lasso.runs['Reparametrization'] = Run(r.x**3, time.time() - time_start)\n",
    "\n",
    "LASSO_reparametrized_nonlinear_least_squares(lasso_problem)"
   ]
  },
  {
   "cell_type": "markdown",
   "metadata": {},
   "source": [
    "# SKGLM\n",
    "\n",
    "SKGLM is a package for sparse linear regression."
   ]
  },
  {
   "cell_type": "code",
   "execution_count": 37,
   "metadata": {},
   "outputs": [],
   "source": [
    "import skglm\n",
    "\n",
    "def LASSO_skglm(lasso: LASSOProblem, max_iter=100):\n",
    "    time_start = time.time()\n",
    "    model = skglm.GeneralizedLinearEstimator(\n",
    "        datafit=skglm.datafits.Quadratic(),\n",
    "        penalty=skglm.penalties.L2_3(lasso.lam / len(lasso.b)),\n",
    "        solver=skglm.solvers.AndersonCD(\n",
    "            tol=1e-14,\n",
    "            max_iter=max_iter,\n",
    "            verbose=False,\n",
    "            fit_intercept=False,\n",
    "            ws_strategy=\"fixpoint\"\n",
    "        ),\n",
    "    )\n",
    "\n",
    "    model.fit(lasso.A, lasso.b)\n",
    "\n",
    "    lasso.runs['SKGLM prox'] = Run(model.coef_, time.time() - time_start)\n",
    "\n",
    "LASSO_skglm(lasso_problem)"
   ]
  },
  {
   "cell_type": "code",
   "execution_count": 38,
   "metadata": {},
   "outputs": [],
   "source": [
    "import skglm\n",
    "from skglm.experimental import IterativeReweightedL1, _L23_objective, _L23_derivative\n",
    "# Trying a reweighted approach\n",
    "# You need to be one this PR https://github.com/scikit-learn-contrib/skglm/pull/87\n",
    "\n",
    "def LASSO_skglm_reweighted(lasso: LASSOProblem, max_iter=100):\n",
    "    time_start = time.time()\n",
    "    model = IterativeReweightedL1(\n",
    "        lasso.lam / len(lasso.b), solver=skglm.solvers.AndersonCD(tol=1e-14, fit_intercept=False),\n",
    "        pen_obj=_L23_objective, pen_weight=_L23_derivative, n_reweights=5)\n",
    "\n",
    "    model.fit(lasso.A, lasso.b)\n",
    "\n",
    "    lasso.runs['SKGLM reweighted'] = Run(model.coef_, time.time() - time_start)\n",
    "\n",
    "LASSO_skglm_reweighted(lasso_problem)"
   ]
  },
  {
   "cell_type": "code",
   "execution_count": 39,
   "metadata": {},
   "outputs": [
    {
     "name": "stdout",
     "output_type": "stream",
     "text": [
      "cond(A)= 5.770759411376696\n"
     ]
    },
    {
     "data": {
      "image/png": "[encoded data removed]",
      "text/plain": [
       "<Figure size 432x288 with 1 Axes>"
      ]
     },
     "metadata": {
      "needs_background": "light"
     },
     "output_type": "display_data"
    }
   ],
   "source": [
    "def show_results(lasso_problem: LASSOProblem):\n",
    "    for algorithm, run in lasso_problem.runs.items():\n",
    "        plt.hist(\n",
    "            run.w,\n",
    "            alpha=0.4,\n",
    "            label='%s cost = %g, time = %.1g sec' % (\n",
    "                algorithm, lasso_problem.cost(run.w), run.time_sec\n",
    "            )\n",
    "        )\n",
    "\n",
    "    plt.legend(fontsize=10)\n",
    "    print(\"cond(A)=\", np.linalg.cond(lasso_problem.A))\n",
    "    \n",
    "show_results(lasso_problem)"
   ]
  },
  {
   "cell_type": "markdown",
   "metadata": {},
   "source": [
    "SKGLM is faster than reparametrization trick in this case. However, I cannot get it to achieve as low of a cost as the reparametrization trick. I've tried reducing  its tolerance parameter, but it gets stuck when i set tol=1e-18, for example. Nevertheless, the histogram above reveals its answer is similar to the reparametrization trick."
   ]
  },
  {
   "cell_type": "markdown",
   "metadata": {},
   "source": [
    "# Ill-conditioned problems\n",
    "\n",
    "Let's see what happens when the LASSO problem is ill-conditioned. This is where second order methods shine."
   ]
  },
  {
   "cell_type": "code",
   "execution_count": 40,
   "metadata": {},
   "outputs": [],
   "source": [
    "ill_conditioned_lasso_problem = LASSOProblem.random_ill_conditioned_problem()"
   ]
  },
  {
   "cell_type": "code",
   "execution_count": null,
   "metadata": {},
   "outputs": [],
   "source": [
    "LASSO_reparametrized_nonlinear_least_squares(ill_conditioned_lasso_problem, max_nfev=25)"
   ]
  },
  {
   "cell_type": "code",
   "execution_count": null,
   "metadata": {},
   "outputs": [],
   "source": [
    "LASSO_skglm(ill_conditioned_lasso_problem, max_iter=25)"
   ]
  },
  {
   "cell_type": "code",
   "execution_count": null,
   "metadata": {},
   "outputs": [],
   "source": [
    "LASSO_skglm_reweighted(ill_conditioned_lasso_problem, max_iter=25)"
   ]
  },
  {
   "cell_type": "code",
   "execution_count": null,
   "metadata": {
    "scrolled": false
   },
   "outputs": [],
   "source": [
    "show_results(ill_conditioned_lasso_problem)"
   ]
  },
  {
   "cell_type": "markdown",
   "metadata": {},
   "source": [
    "On a badly conditioned problem, SKGLM reach similar costs, but SKGLM is 10x slower than the reparametrization trick. This is expected, because the reparametrization trick relies on a quasi-Newton solver, which preconditions the problem with an estimate of the Hessian. Notice also that a small change of ~2% in the cost amounts to a very large change in the solution vector: the histograms of parameter values differ dramatically."
   ]
  }
 ],
 "metadata": {
  "kernelspec": {
   "display_name": "Python 3",
   "language": "python",
   "name": "python3"
  },
  "language_info": {
   "codemirror_mode": {
    "name": "ipython",
    "version": 3
   },
   "file_extension": ".py",
   "mimetype": "text/x-python",
   "name": "python",
   "nbconvert_exporter": "python",
   "pygments_lexer": "ipython3",
   "version": "3.7.6"
  }
 },
 "nbformat": 4,
 "nbformat_minor": 5
}
